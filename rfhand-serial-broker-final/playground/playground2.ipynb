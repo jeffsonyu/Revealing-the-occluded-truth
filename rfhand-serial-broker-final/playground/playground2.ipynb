{
 "cells": [
  {
   "cell_type": "code",
   "execution_count": 1,
   "metadata": {
    "collapsed": true,
    "is_executing": true
   },
   "outputs": [],
   "source": [
    "from typing import Dict, Tuple\n",
    "import pandas as pd\n",
    "import csv\n",
    "import json\n",
    "import os\n",
    "import sys\n",
    "from pylab import *\n",
    "from scipy import signal\n",
    "\n",
    "sys.path.append(\"../\")\n",
    "import numpy as np\n",
    "from serial_broker.Conversion import (\n",
    "    voltage2force,\n",
    "    VoltageToForceParameters,\n",
    "    ParameterManager,\n",
    "    AmplifierManager,\n",
    ")\n",
    "import matplotlib.pyplot as plt\n",
    "from matplotlib.ticker import MultipleLocator"
   ]
  },
  {
   "cell_type": "code",
   "execution_count": 2,
   "metadata": {
    "collapsed": false
   },
   "outputs": [],
   "source": [
    "def get_section_info() -> Dict[str, str]:\n",
    "    res = {}\n",
    "    try:\n",
    "        with open(\"../manifests/section.csv\", newline=\"\") as csvfile:\n",
    "            reader = csv.DictReader(csvfile)\n",
    "            for row in reader:\n",
    "                block = str(row[\"block\"])\n",
    "                start_x = int(row[\"start_x\"])\n",
    "                start_y = int(row[\"start_y\"])\n",
    "                end_x = int(row[\"end_x\"])\n",
    "                end_y = int(row[\"end_y\"])\n",
    "                res[block] = (start_x, end_x, start_y, end_y)\n",
    "        return res\n",
    "    except Exception as e:\n",
    "        print(\"error reading from csv file\")\n",
    "        raise e\n",
    "\n",
    "def parse_file(path):\n",
    "    res = []\n",
    "    try:\n",
    "        with open(path, \"r\") as f:\n",
    "            while True:\n",
    "                jline = f.readline()\n",
    "                if not jline:\n",
    "                    break\n",
    "                res.append(json.loads(jline))\n",
    "        return res\n",
    "    except Exception as e:\n",
    "        print(\"error reading from jsonl file\")\n",
    "        raise e\n",
    "\n",
    "\n",
    "def custom_mapping_fn(x: np.ndarray):\n",
    "    x[6][37] = x[6][38]\n",
    "    return np.array(x)\n"
   ]
  },
  {
   "cell_type": "code",
   "execution_count": 3,
   "metadata": {},
   "outputs": [],
   "source": [
    "section_info = get_section_info()\n",
    "SURFACE = 1.9625e-5\n",
    "ARRAY_SIZE = (24, 48)\n",
    "# Init Calibration\n",
    "M = ParameterManager()\n",
    "M.read_from_csv(\"../manifests/calibration.csv\")\n",
    "C = M.params\n",
    "\n",
    "# Init Amplifier\n",
    "amp = AmplifierManager()\n",
    "amp.read_from_csv(\"../manifests/amplifier.csv\")\n",
    "K = amp.get()"
   ]
  },
  {
   "cell_type": "code",
   "execution_count": 4,
   "metadata": {},
   "outputs": [],
   "source": [
    "def split_raw_data(raw_data, section_info: Dict[str, Tuple[int, int, int, int]]):\n",
    "    splited = {\n",
    "        k: np.empty(shape=(len(raw_data), v[1] - v[0], v[3] - v[2]))\n",
    "        for k, v in section_info.items()\n",
    "    }\n",
    "    timestamp = np.empty(len(raw_data))\n",
    "    index = np.empty(len(raw_data), dtype=np.int64)\n",
    "    total = np.empty(shape=(len(raw_data), *ARRAY_SIZE))\n",
    "    for idx, dp in enumerate(raw_data):\n",
    "        timestamp[idx] = dp[\"ts\"]\n",
    "        index[idx] = dp[\"index\"]\n",
    "\n",
    "        dp_data = np.array(dp[\"data\"])\n",
    "        dp_data = custom_mapping_fn(dp_data) * K\n",
    "        dp_force = voltage2force(dp_data, params=C)\n",
    "        #dp_pressure = 0.001*dp_force / SURFACE #单位：kPa\n",
    "        dp_pressure = 0.001*dp_force / (SURFACE*150) #单位：kPa  #把150kPa视为最大值做归一化！！！\n",
    "\n",
    "        for k in section_info.keys():\n",
    "            start_x, end_x, start_y, end_y = section_info[k]\n",
    "            try:\n",
    "                splited[k][idx] = dp_pressure[start_x:end_x, start_y:end_y]\n",
    "            except Exception as e:\n",
    "                print(k)\n",
    "                raise e\n",
    "        total[idx] = dp_pressure\n",
    "    return total, splited, timestamp, index"
   ]
  },
  {
   "cell_type": "code",
   "execution_count": 5,
   "metadata": {},
   "outputs": [
    {
     "name": "stderr",
     "output_type": "stream",
     "text": [
      "f:\\OneDrive\\Tactile glove test\\rfhand-serial-broker\\playground\\..\\serial_broker\\Conversion.py:23: RuntimeWarning: divide by zero encountered in divide\n",
      "  res = 1 / params.k * np.power(-np.log((params.A - voltage) / (params.A - params.b)), 1 / params.d)\n",
      "f:\\OneDrive\\Tactile glove test\\rfhand-serial-broker\\playground\\..\\serial_broker\\Conversion.py:23: RuntimeWarning: invalid value encountered in log\n",
      "  res = 1 / params.k * np.power(-np.log((params.A - voltage) / (params.A - params.b)), 1 / params.d)\n",
      "f:\\OneDrive\\Tactile glove test\\rfhand-serial-broker\\playground\\..\\serial_broker\\Conversion.py:23: RuntimeWarning: invalid value encountered in power\n",
      "  res = 1 / params.k * np.power(-np.log((params.A - voltage) / (params.A - params.b)), 1 / params.d)\n"
     ]
    }
   ],
   "source": [
    "raw_data = parse_file(\"../log/20230724/Pressing a towel/20230724162603.jsonl\")  #20230724的三次按压，补充0718实验中按压的动作，之前的数据不佳\n",
    "total_pressure, splited_pressure, timestamp, index = split_raw_data(\n",
    "    raw_data, section_info\n",
    ")"
   ]
  },
  {
   "cell_type": "code",
   "execution_count": 6,
   "metadata": {},
   "outputs": [
    {
     "data": {
      "image/png": "[encoded data removed]",
      "text/plain": [
       "<Figure size 800x600 with 1 Axes>"
      ]
     },
     "metadata": {},
     "output_type": "display_data"
    }
   ],
   "source": [
    "##########计算整个手掌平均压力：total_pressure.mean#########\n",
    "plt.figure(figsize=(8, 6))\n",
    "plt.rcParams[\"figure.dpi\"] = 300  \n",
    "axes = plt.subplot()\n",
    "plt.xlabel('Time (s)', fontfamily='Arial', fontsize=14) \n",
    "plt.ylabel('Pressure (normalized)', fontfamily='Arial', fontsize=14) \n",
    "ax=plt.gca() #ax为两条坐标轴的实例\n",
    "#刻度值字体设置\n",
    "labels = ax.get_xticklabels()+ ax.get_yticklabels()\n",
    "[label.set_fontname('Arial') for label in labels]\n",
    "\n",
    "\n",
    "plt.xlim(0,7) #横轴，时间：秒  #0724按压毛巾\n",
    "plt.ylim(0,1) #纵轴，整个手掌的平均压强：kPa，归一化后的\n",
    "\n",
    "axes.minorticks_on()  # 显示副刻度线\n",
    "axes.tick_params(axis=\"both\", which=\"major\", direction=\"in\", width=1, length=5) # 设置主刻度线参数\n",
    "axes.tick_params(axis=\"both\", which=\"minor\", direction=\"in\", width=1, length=3) # 设置副刻度线参数\n",
    "\n",
    "ax=plt.gca()\n",
    "#设置x,y 的主刻度定位器\n",
    "ax.xaxis.set_major_locator(MultipleLocator(1))\n",
    "ax.yaxis.set_major_locator(MultipleLocator(0.2))\n",
    "# 设置 X 轴上的副刻度线之间的间隔\n",
    "axes.xaxis.set_minor_locator(MultipleLocator(0.5)) \n",
    "\n",
    "plt.plot((timestamp - timestamp[0]) * 1e-9, total_pressure.mean(axis=(1, 2)), marker=\"o\", color=\"black\", linestyle='-', markersize=3)\n",
    "\n",
    "# 定义不同的 x 轴区间和相应的颜色\n",
    "x_intervals = [(1.6, 4.5)]\n",
    "colors = ['gold']\n",
    "\n",
    "# 绘制连续曲线和着色区间\n",
    "for interval, color in zip(x_intervals, colors):\n",
    "    plt.axvspan(*interval, color=color, alpha=0.4)\n",
    "    \n",
    "plt.show()"
   ]
  }
 ],
 "metadata": {
  "kernelspec": {
   "display_name": "Python 3",
   "language": "python",
   "name": "python3"
  },
  "language_info": {
   "codemirror_mode": {
    "name": "ipython",
    "version": 3
   },
   "file_extension": ".py",
   "mimetype": "text/x-python",
   "name": "python",
   "nbconvert_exporter": "python",
   "pygments_lexer": "ipython3",
   "version": "3.8.13"
  }
 },
 "nbformat": 4,
 "nbformat_minor": 0
}
